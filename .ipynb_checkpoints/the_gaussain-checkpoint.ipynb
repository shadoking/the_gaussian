{
 "cells": [
  {
   "cell_type": "code",
   "execution_count": 2,
   "id": "417c1468",
   "metadata": {},
   "outputs": [],
   "source": [
    "import os\n",
    "import cv2\n",
    "import json\n",
    "import torch\n",
    "from argparse import ArgumentParser\n",
    "from typing import NamedTuple\n",
    "from plyfile import PlyData\n",
    "from utils.colmap_utils import (\n",
    "    read_extrinsics_binary, \n",
    "    read_intrinsics_binary, \n",
    "    read_points3D_binary, \n",
    "    read_points3D_text,\n",
    "    qvec2rotmat\n",
    ")\n",
    "from utils.graphics_utils import focal2fov"
   ]
  },
  {
   "cell_type": "markdown",
   "id": "15d0e721",
   "metadata": {},
   "source": [
    "# 参数读取"
   ]
  },
  {
   "cell_type": "code",
   "execution_count": 3,
   "id": "4a80e8bb",
   "metadata": {},
   "outputs": [],
   "source": [
    "# 读取json配置文件\n",
    "with open('config.json','r') as file:\n",
    "    json_data = json.load(file)\n",
    "\n",
    "parser = ArgumentParser()\n",
    "for key, value in json_data.items():\n",
    "    parser.add_argument(f'--{key}', default=value)\n",
    "parser.add_argument(\"--detect_anomaly\", action=\"store_true\", default=False)\n",
    "parser.add_argument(\"--test_iterations\", nargs=\"+\", type=int, default=[100,1_000, 7_000, 30_000])\n",
    "parser.add_argument(\"--save_iterations\", nargs=\"+\", type=int, default=[100,1_000, 7_000, 30_000])   \n",
    "parser.add_argument(\"--checkpoint_iterations\", nargs=\"+\", type=int, default=[100, 1_000, 7_000, 30_000])\n",
    "parser.add_argument(\"--start_checkpoint\", type=str, default = None)\n",
    "args = parser.parse_args(args=['--source_path', './data',  '--model_path', './data/output'])\n",
    "#config = vars(args)"
   ]
  },
  {
   "cell_type": "markdown",
   "id": "cb18b89a",
   "metadata": {},
   "source": [
    "# 数据读取\n",
    "\n",
    "相机矩阵(4 X 4)：\n",
    "$\n",
    "viewMatrix = \\begin{bmatrix}\n",
    "R & T \\\\\n",
    "0 & 1\n",
    "\\end{bmatrix}\n",
    "$\n",
    "\n",
    "投影矩阵(4 X 4)：\n",
    "$\n",
    "projMatrix = \\begin{bmatrix}\n",
    "\\frac{2n}{r-l} & 0 & 0 & 0 \\\\\n",
    "0 & \\frac{2n}{t-b} & 0 & 0 \\\\\n",
    "0 & 0 & \\frac{f +n}{f - n} & \\frac{2nf}{n - f} \\\\\n",
    "0 & 0 & 1 & 0\n",
    "\\end{bmatrix}\n",
    "$"
   ]
  },
  {
   "cell_type": "code",
   "execution_count": 22,
   "id": "dc5f1ce9",
   "metadata": {},
   "outputs": [],
   "source": [
    "class BasicPointCloud(NamedTuple):\n",
    "    positions : np.array\n",
    "    colors : np.array\n",
    "    normals : np.array"
   ]
  },
  {
   "cell_type": "code",
   "execution_count": 23,
   "id": "1962aea8",
   "metadata": {
    "code_folding": []
   },
   "outputs": [],
   "source": [
    "class ImageInfo:\n",
    "    def __init__(self, image_name, image_path, image, image_width, image_height, R, T, fov_x, fov_y, device):\n",
    "        self.image = torch.from_numpy(image).to(device)\n",
    "        self.image_name = image_name\n",
    "        self.image_path = image_path        \n",
    "        self.image_width = image_width\n",
    "        self.image_height = image_height\n",
    "        self.R = R\n",
    "        self.T = T\n",
    "        self.fov_x = fov_x\n",
    "        self.fov_y = fov_y\n",
    "        self.zfar = 100.0\n",
    "        self.znear = 0.01\n",
    "        \n",
    "        self.viewMatrix = self.getViewMatrix(self.R, self.T).to(device)\n",
    "        self.projMatrix = self.getProjMatrix(self.znear, self.zfar, self.fov_x, self.fov_y).to(device)\n",
    "        self.viewProjMatrix = self.viewMatrix @ self.projMatrix\n",
    "        self.cameraCenter = torch.inverse(self.viewMatrix)[:3, 3]\n",
    "        \n",
    "    def getViewMatrix(self, R, T):\n",
    "        viewMatrix = torch.eye(4, dtype=torch.float32)\n",
    "        viewMatrix[:3, :3] = torch.tensor(R, dtype=torch.float32)\n",
    "        viewMatrix[:3, 3] = torch.tensor(T, dtype=torch.float32)\n",
    "        \n",
    "        return viewMatrix\n",
    "        \n",
    "    def getProjMatrix(self, znear, zfar, fov_x, fov_y):\n",
    "        tan_fov_y = np.tan((fov_y / 2))\n",
    "        tan_fov_x = np.tan((fov_x / 2))\n",
    "        \n",
    "        top = tan_fov_y * znear\n",
    "        bottom = -top\n",
    "        right = tan_fov_x * znear\n",
    "        left = -right\n",
    "        \n",
    "        projMatrix = torch.zeros(4, 4)\n",
    "        projMatrix[0, 0] = 2.0 * znear / (right - left)\n",
    "        projMatrix[1, 1] = 2.0 * znear / (top - bottom)\n",
    "        projMatrix[2, 2] = zfar / (zfar - znear)\n",
    "        projMatrix[2, 3] = 2.0 * znear * zfar / (znear - zfar)\n",
    "        projMatrix[3, 3] = 1.0\n",
    "        \n",
    "        return projMatrix"
   ]
  },
  {
   "cell_type": "code",
   "execution_count": 24,
   "id": "86f49b4f",
   "metadata": {
    "code_folding": []
   },
   "outputs": [],
   "source": [
    "class GSDataLoader:\n",
    "    def __init__(self, data_path, reading_dir, device):\n",
    "        self.data_path = data_path\n",
    "        self.device = device\n",
    "        self.cameras = []\n",
    "        self.points = {}\n",
    "        self.loadColmap(reading_dir)\n",
    "    \n",
    "    def loadColmap(self, reading_dir):\n",
    "        # 读取相机\n",
    "        cameras_extrinsic_path = os.path.join(self.data_path, \"sparse/0/images.bin\")\n",
    "        cam_extrinsics = read_extrinsics_binary(cameras_extrinsic_path)        \n",
    "        cameras_intrinsic_path = os.path.join(self.data_path, \"sparse/0/cameras.bin\")\n",
    "        cam_intrinsics = read_intrinsics_binary(cameras_intrinsic_path)\n",
    "        \n",
    "        # 读取图片\n",
    "        images_folder=os.path.join(self.data_path, reading_dir)\n",
    "        self.cameras = []\n",
    "        for _, image_info in cam_extrinsics.items():\n",
    "            intr = cam_intrinsics[image_info.camera_id]\n",
    "\n",
    "            image_height = intr.height\n",
    "            image_width = intr.width\n",
    "\n",
    "            image_path = os.path.join(images_folder, image_info.name)\n",
    "            image = cv2.imread(image_path)\n",
    "            image = cv2.cvtColor(image, cv2.COLOR_BGR2RGB)\n",
    "            R = qvec2rotmat(image_info.qvec)\n",
    "            T = image_info.tvec\n",
    "\n",
    "            if intr.model == \"SIMPLE_PINHOLE\":\n",
    "                # colmap params [f, cx, cy]\n",
    "                fov_y = focal2fov(intr.params[0], image_height)\n",
    "                fov_x = focal2fov(intr.params[0], image_width) \n",
    "            elif intr.model == \"PINHOLE\":\n",
    "                # colmap params [fx, fy, cx, cy]\n",
    "                fov_y = focal2fov(intr.params[1], image_height)\n",
    "                fov_x = focal2fov(intr.params[0], image_width)\n",
    "            else:\n",
    "                assert False, \"Colmap camera model not handled: only undistorted datasets (PINHOLE or SIMPLE_PINHOLE cameras) supported!\"\n",
    "\n",
    "            self.cameras.append(ImageInfo(\n",
    "                image_name=image_info.name, \n",
    "                image_path=image_path, \n",
    "                image=image, \n",
    "                image_width=image_width, \n",
    "                image_height=image_height, \n",
    "                R=R, T=T, \n",
    "                fov_x=fov_x,\n",
    "                fov_y=fov_y, \n",
    "                device=self.device))\n",
    "                \n",
    "        # 读取点云\n",
    "        ply_path = os.path.join(self.data_path, \"sparse/0/points3D.ply\")\n",
    "        plydata = PlyData.read(ply_path)\n",
    "        vertices = plydata['vertex']\n",
    "        positions = np.vstack([vertices['x'], vertices['y'], vertices['z']]).T\n",
    "        colors = np.vstack([vertices['red "
   ]
  },
  {
   "cell_type": "code",
   "execution_count": 25,
   "id": "e0b80a0c",
   "metadata": {},
   "outputs": [],
   "source": [
    "device = torch.device('cpu')\n",
    "data = GSDataLoader(args.source_path, args.images, device)"
   ]
  },
  {
   "cell_type": "code",
   "execution_count": null,
   "id": "ae72ca47",
   "metadata": {},
   "outputs": [],
   "source": []
  },
  {
   "cell_type": "markdown",
   "id": "5e9e49fe",
   "metadata": {
    "scrolled": true
   },
   "source": [
    "# GS模型"
   ]
  },
  {
   "cell_type": "code",
   "execution_count": null,
   "id": "a76852b1",
   "metadata": {
    "scrolled": true
   },
   "outputs": [],
   "source": []
  },
  {
   "cell_type": "code",
   "execution_count": null,
   "id": "a102c8d3",
   "metadata": {},
   "outputs": [],
   "source": []
  },
  {
   "cell_type": "code",
   "execution_count": null,
   "id": "c3b3ef78",
   "metadata": {},
   "outputs": [],
   "source": []
  },
  {
   "cell_type": "code",
   "execution_count": null,
   "id": "de9a7359",
   "metadata": {},
   "outputs": [],
   "source": []
  },
  {
   "cell_type": "code",
   "execution_count": null,
   "id": "c00706dc",
   "metadata": {},
   "outputs": [],
   "source": []
  },
  {
   "cell_type": "code",
   "execution_count": null,
   "id": "5e46ac19",
   "metadata": {},
   "outputs": [],
   "source": []
  }
 ],
 "metadata": {
  "kernelspec": {
   "display_name": "Python 3 (ipykernel)",
   "language": "python",
   "name": "python3"
  },
  "language_info": {
   "codemirror_mode": {
    "name": "ipython",
    "version": 3
   },
   "file_extension": ".py",
   "mimetype": "text/x-python",
   "name": "python",
   "nbconvert_exporter": "python",
   "pygments_lexer": "ipython3",
   "version": "3.7.13"
  },
  "toc": {
   "base_numbering": 1,
   "nav_menu": {},
   "number_sections": true,
   "sideBar": true,
   "skip_h1_title": false,
   "title_cell": "Table of Contents",
   "title_sidebar": "Contents",
   "toc_cell": false,
   "toc_position": {},
   "toc_section_display": true,
   "toc_window_display": false
  },
  "varInspector": {
   "cols": {
    "lenName": 16,
    "lenType": 16,
    "lenVar": 40
   },
   "kernels_config": {
    "python": {
     "delete_cmd_postfix": "",
     "delete_cmd_prefix": "del ",
     "library": "var_list.py",
     "varRefreshCmd": "print(var_dic_list())"
    },
    "r": {
     "delete_cmd_postfix": ") ",
     "delete_cmd_prefix": "rm(",
     "library": "var_list.r",
     "varRefreshCmd": "cat(var_dic_list()) "
    }
   },
   "types_to_exclude": [
    "module",
    "function",
    "builtin_function_or_method",
    "instance",
    "_Feature"
   ],
   "window_display": false
  }
 },
 "nbformat": 4,
 "nbformat_minor": 5
}
