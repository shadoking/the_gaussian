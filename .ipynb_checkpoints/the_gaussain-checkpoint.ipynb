{
 "cells": [
  {
   "cell_type": "code",
   "execution_count": 60,
   "id": "417c1468",
   "metadata": {},
   "outputs": [],
   "source": [
    "import os\n",
    "import cv2\n",
    "import json\n",
    "import torch\n",
    "from argparse import ArgumentParser\n",
    "from plyfile import PlyData, PlyElement\n",
    "from utils.colmap_utils import (\n",
    "    read_extrinsics_binary, \n",
    "    read_intrinsics_binary, \n",
    "    read_points3D_binary, \n",
    "    read_points3D_text,\n",
    "    qvec2rotmat\n",
    ")\n",
    "from utils.graphics_utils import focal2fov"
   ]
  },
  {
   "cell_type": "markdown",
   "id": "15d0e721",
   "metadata": {},
   "source": [
    "# 参数读取"
   ]
  },
  {
   "cell_type": "code",
   "execution_count": 14,
   "id": "4a80e8bb",
   "metadata": {},
   "outputs": [],
   "source": [
    "# 读取json配置文件\n",
    "with open('config.json','r') as file:\n",
    "    json_data = json.load(file)\n",
    "\n",
    "parser = ArgumentParser()\n",
    "for key, value in json_data.items():\n",
    "    parser.add_argument(f'--{key}', default=value)\n",
    "parser.add_argument(\"--detect_anomaly\", action=\"store_true\", default=False)\n",
    "parser.add_argument(\"--test_iterations\", nargs=\"+\", type=int, default=[100,1_000, 7_000, 30_000])\n",
    "parser.add_argument(\"--save_iterations\", nargs=\"+\", type=int, default=[100,1_000, 7_000, 30_000])   \n",
    "parser.add_argument(\"--checkpoint_iterations\", nargs=\"+\", type=int, default=[100, 1_000, 7_000, 30_000])\n",
    "parser.add_argument(\"--start_checkpoint\", type=str, default = None)\n",
    "args = parser.parse_args(args=['--source_path', './data',  '--model_path', './data/output'])\n",
    "#config = vars(args)"
   ]
  },
  {
   "cell_type": "markdown",
   "id": "cb18b89a",
   "metadata": {},
   "source": [
    "# 数据读取"
   ]
  },
  {
   "cell_type": "code",
   "execution_count": null,
   "id": "8e902bfe",
   "metadata": {},
   "outputs": [],
   "source": [
    "class GSInfo:\n",
    "    "
   ]
  },
  {
   "cell_type": "code",
   "execution_count": 50,
   "id": "86f49b4f",
   "metadata": {
    "code_folding": []
   },
   "outputs": [],
   "source": [
    "class GSDataLoader:\n",
    "    def __init__(self, data_path, reading_dir, device):\n",
    "        self.data_path = data_path\n",
    "        self.device = device\n",
    "        self.cameras = []\n",
    "        self.points = {}\n",
    "        self.load_colmap(reading_dir)\n",
    "    \n",
    "    def load_colmap(self, reading_dir):\n",
    "        # 读取相机\n",
    "        cameras_extrinsic_path = os.path.join(self.data_path, \"sparse/0/images.bin\")\n",
    "        cam_extrinsics = read_extrinsics_binary(cameras_extrinsic_path)        \n",
    "        cameras_intrinsic_path = os.path.join(self.data_path, \"sparse/0/cameras.bin\")\n",
    "        cam_intrinsics = read_intrinsics_binary(cameras_intrinsic_path)\n",
    "        \n",
    "        # 读取图片\n",
    "        images_folder=os.path.join(self.data_path, reading_dir)\n",
    "        self.cameras = []\n",
    "        for _, image_info in cam_extrinsics.items():\n",
    "            intr = cam_intrinsics[image_info.camera_id]\n",
    "\n",
    "            height = intr.height\n",
    "            width = intr.width\n",
    "\n",
    "            image_path = os.path.join(images_folder, image_info.name)\n",
    "            image = cv2.imread(image_path)\n",
    "            image = cv2.cvtColor(image, cv2.COLOR_BGR2RGB)\n",
    "            R = qvec2rotmat(image_info.qvec)\n",
    "            T = image_info.tvec\n",
    "\n",
    "            if intr.model == \"SIMPLE_PINHOLE\":\n",
    "                # colmap params [f, cx, cy]\n",
    "                fov_y = focal2fov(intr.params[0], height)\n",
    "                fov_x = focal2fov(intr.params[0], width) \n",
    "            elif intr.model == \"PINHOLE\":\n",
    "                # colmap params [fx, fy, cx, cy]\n",
    "                fov_y = focal2fov(intr.params[1], height)\n",
    "                fov_x = focal2fov(intr.params[0], width)\n",
    "            else:\n",
    "                assert False, \"Colmap camera model not handled: only undistorted datasets (PINHOLE or SIMPLE_PINHOLE cameras) supported!\"\n",
    "\n",
    "            self.cameras.append({\n",
    "                'R': R,\n",
    "                'T': T,\n",
    "                'fov_x': fov_x,\n",
    "                'fov_y': fov_y,\n",
    "                'image': image,\n",
    "                'image_path': image_path,\n",
    "                'image_name': image_info.name,\n",
    "                'width': width,\n",
    "                'height': height\n",
    "            })    \n",
    "                \n",
    "        # 读取点云\n",
    "        ply_path = os.path.join(self.data_path, \"sparse/0/points3D.ply\")\n",
    "        plydata = PlyData.read(ply_path)\n",
    "        vertices = plydata['vertex']\n",
    "        positions = np.vstack([vertices['x'], vertices['y'], vertices['z']]).T\n",
    "        colors = np.vstack([vertices['red'], vertices['green'], vertices['blue']]).T / 255.0\n",
    "        normals = np.vstack([vertices['nx'], vertices['ny'], vertices['nz']]).T\n",
    "        self.points = {\n",
    "            'positions': positions,\n",
    "            'colors': colors,\n",
    "            'normals': normals\n",
    "        }"
   ]
  },
  {
   "cell_type": "code",
   "execution_count": 62,
   "id": "e0b80a0c",
   "metadata": {},
   "outputs": [],
   "source": []
  },
  {
   "cell_type": "code",
   "execution_count": null,
   "id": "ae72ca47",
   "metadata": {},
   "outputs": [],
   "source": []
  },
  {
   "cell_type": "code",
   "execution_count": null,
   "id": "ee6001fc",
   "metadata": {
    "scrolled": true
   },
   "outputs": [],
   "source": []
  },
  {
   "cell_type": "code",
   "execution_count": null,
   "id": "a76852b1",
   "metadata": {
    "scrolled": true
   },
   "outputs": [],
   "source": []
  },
  {
   "cell_type": "code",
   "execution_count": null,
   "id": "a102c8d3",
   "metadata": {},
   "outputs": [],
   "source": []
  },
  {
   "cell_type": "code",
   "execution_count": null,
   "id": "c3b3ef78",
   "metadata": {},
   "outputs": [],
   "source": []
  },
  {
   "cell_type": "code",
   "execution_count": null,
   "id": "de9a7359",
   "metadata": {},
   "outputs": [],
   "source": []
  },
  {
   "cell_type": "code",
   "execution_count": null,
   "id": "c00706dc",
   "metadata": {},
   "outputs": [],
   "source": []
  },
  {
   "cell_type": "code",
   "execution_count": null,
   "id": "5e46ac19",
   "metadata": {},
   "outputs": [],
   "source": []
  }
 ],
 "metadata": {
  "kernelspec": {
   "display_name": "Python 3 (ipykernel)",
   "language": "python",
   "name": "python3"
  },
  "language_info": {
   "codemirror_mode": {
    "name": "ipython",
    "version": 3
   },
   "file_extension": ".py",
   "mimetype": "text/x-python",
   "name": "python",
   "nbconvert_exporter": "python",
   "pygments_lexer": "ipython3",
   "version": "3.7.13"
  },
  "toc": {
   "base_numbering": 1,
   "nav_menu": {},
   "number_sections": true,
   "sideBar": true,
   "skip_h1_title": false,
   "title_cell": "Table of Contents",
   "title_sidebar": "Contents",
   "toc_cell": false,
   "toc_position": {},
   "toc_section_display": true,
   "toc_window_display": false
  },
  "varInspector": {
   "cols": {
    "lenName": 16,
    "lenType": 16,
    "lenVar": 40
   },
   "kernels_config": {
    "python": {
     "delete_cmd_postfix": "",
     "delete_cmd_prefix": "del ",
     "library": "var_list.py",
     "varRefreshCmd": "print(var_dic_list())"
    },
    "r": {
     "delete_cmd_postfix": ") ",
     "delete_cmd_prefix": "rm(",
     "library": "var_list.r",
     "varRefreshCmd": "cat(var_dic_list()) "
    }
   },
   "types_to_exclude": [
    "module",
    "function",
    "builtin_function_or_method",
    "instance",
    "_Feature"
   ],
   "window_display": false
  }
 },
 "nbformat": 4,
 "nbformat_minor": 5
}
